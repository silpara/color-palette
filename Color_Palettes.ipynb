{
 "cells": [
  {
   "cell_type": "code",
   "execution_count": 22,
   "metadata": {},
   "outputs": [],
   "source": [
    "import matplotlib.pyplot as plt\n",
    "plt.rcParams['axes.linewidth'] = 2.0"
   ]
  },
  {
   "cell_type": "markdown",
   "metadata": {},
   "source": [
    "## An Optimum 16 Color Palette\n",
    "\n",
    "Source: http://alumni.media.mit.edu/~wad/color/palette.html"
   ]
  },
  {
   "cell_type": "markdown",
   "metadata": {},
   "source": [
    "### Wads Palette\n",
    "<img src=\"wads_palette.png\" alt=\"Color Palette of Size 16\" style=\"width: 200px;\"/>"
   ]
  },
  {
   "cell_type": "code",
   "execution_count": 29,
   "metadata": {},
   "outputs": [
    {
     "data": {
      "image/png": "[encoded data removed]",
      "text/plain": [
       "<Figure size 432x288 with 16 Axes>"
      ]
     },
     "metadata": {},
     "output_type": "display_data"
    }
   ],
   "source": [
    "color_list = ['#000000','#575757', '#A0A0A0', '#FFFFFF', \n",
    "              '#294BD7', '#1D6913', '#814918', '#8125C0', \n",
    "              '#9DAFFF', '#80C57A', '#E8DEBB', '#AD2223', \n",
    "              '#2AD0D0', '#FFEE33', '#FF9233', '#FFCDF3']\n",
    "\n",
    "fig, axs = plt.subplots(4, 4)\n",
    "for idx in range(len(color_list)):\n",
    "    plot_row = idx//4\n",
    "    plot_col = idx % 4\n",
    "    axs[plot_row, plot_col].set_facecolor(color_list[idx])\n",
    "    axs[plot_row, plot_col].tick_params(axis='both', which='both', \n",
    "                                        bottom=False,top=False,\n",
    "                                        left=False,labelbottom=False,\n",
    "                                        labelleft=False)"
   ]
  },
  {
   "cell_type": "markdown",
   "metadata": {},
   "source": [
    "### Cartoon Palette\n",
    "<img src=\"cartoon_palette.png\" alt=\"Color Palette of Size 16\" style=\"width: 200px;\"/>"
   ]
  },
  {
   "cell_type": "code",
   "execution_count": 28,
   "metadata": {},
   "outputs": [
    {
     "data": {
      "image/png": "[encoded data removed]",
      "text/plain": [
       "<Figure size 432x288 with 16 Axes>"
      ]
     },
     "metadata": {},
     "output_type": "display_data"
    }
   ],
   "source": [
    "color_list = ['#000000','#E0E0E0', '#808080', '#FFFFFF', \n",
    "              '#020080', '#409700', '#A45E33', '#800080', \n",
    "              '#0B00FF', '#00FF00', '#D08C64', '#D50000', \n",
    "              '#00FFFF', '#FFD132', '#E7C5AF', '#FF8020']\n",
    "\n",
    "fig, axs = plt.subplots(4, 4)\n",
    "for idx in range(len(color_list)):\n",
    "    plot_row = idx//4\n",
    "    plot_col = idx % 4\n",
    "    axs[plot_row, plot_col].set_facecolor(color_list[idx])\n",
    "    axs[plot_row, plot_col].tick_params(axis='both', which='both', \n",
    "                                        bottom=False,top=False,\n",
    "                                        left=False,labelbottom=False,\n",
    "                                        labelleft=False)"
   ]
  },
  {
   "cell_type": "markdown",
   "metadata": {},
   "source": [
    "### RGB Uniform volume sampling\n",
    "<img src=\"rgb_sampling.png\" alt=\"Color Palette of Size 16\" style=\"width: 200px;\"/>"
   ]
  },
  {
   "cell_type": "code",
   "execution_count": 30,
   "metadata": {},
   "outputs": [
    {
     "data": {
      "image/png": "[encoded data removed]",
      "text/plain": [
       "<Figure size 432x288 with 16 Axes>"
      ]
     },
     "metadata": {},
     "output_type": "display_data"
    }
   ],
   "source": [
    "color_list = ['#000000','#505050', '#A0A0A0', '#FFFFFF', \n",
    "              '#020080', '#0B00FF', '#800080', '#FF00FF', \n",
    "              '#007F00', '#00FF00', '#808000', '#FEFF01', \n",
    "              '#800000', '#FF0000', '#008080', '#00FFFF']\n",
    "\n",
    "fig, axs = plt.subplots(4, 4)\n",
    "for idx in range(len(color_list)):\n",
    "    plot_row = idx//4\n",
    "    plot_col = idx % 4\n",
    "    axs[plot_row, plot_col].set_facecolor(color_list[idx])\n",
    "    axs[plot_row, plot_col].tick_params(axis='both', which='both', \n",
    "                                        bottom=False,top=False,\n",
    "                                        left=False,labelbottom=False,\n",
    "                                        labelleft=False)"
   ]
  },
  {
   "cell_type": "code",
   "execution_count": null,
   "metadata": {},
   "outputs": [],
   "source": []
  }
 ],
 "metadata": {
  "kernelspec": {
   "display_name": "Python 3",
   "language": "python",
   "name": "python3"
  },
  "language_info": {
   "codemirror_mode": {
    "name": "ipython",
    "version": 3
   },
   "file_extension": ".py",
   "mimetype": "text/x-python",
   "name": "python",
   "nbconvert_exporter": "python",
   "pygments_lexer": "ipython3",
   "version": "3.7.6"
  }
 },
 "nbformat": 4,
 "nbformat_minor": 2
}
